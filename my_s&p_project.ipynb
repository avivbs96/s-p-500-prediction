{
 "cells": [
  {
   "cell_type": "code",
   "execution_count": 451,
   "id": "b06350d1-3260-493e-942e-58dca4f0623d",
   "metadata": {},
   "outputs": [],
   "source": [
    "import requests\n",
    "from bs4 import BeautifulSoup\n",
    "import pandas as pd"
   ]
  },
  {
   "cell_type": "code",
   "execution_count": 452,
   "id": "6073cbac-67bc-4e8a-9c73-6df207c24f4a",
   "metadata": {},
   "outputs": [],
   "source": [
    "import numpy as np\n",
    "import pandas as pd\n",
    "from sklearn import linear_model\n",
    "\n",
    "from sklearn.linear_model import LinearRegression\n",
    "#and visualization setup\n",
    "import matplotlib.pyplot as plt\n",
    "%matplotlib inline  \n",
    "plt.rcParams['figure.figsize'] = (10, 6)\n",
    "\n",
    "from mpl_toolkits.mplot3d import Axes3D\n",
    "from matplotlib import cm"
   ]
  },
  {
   "cell_type": "code",
   "execution_count": null,
   "id": "4c157701-cfc3-462c-9ed4-070ffd9485ef",
   "metadata": {},
   "outputs": [],
   "source": []
  },
  {
   "cell_type": "code",
   "execution_count": 456,
   "id": "7e4d13c8-222a-40ab-92b1-7cd7a55e2b36",
   "metadata": {},
   "outputs": [],
   "source": [
    "soup4= BeautifulSoup(open('s&p500.html'),'html.parser')"
   ]
  },
  {
   "cell_type": "code",
   "execution_count": 457,
   "id": "1ac561aa-8033-4ceb-9ed1-f2266d347438",
   "metadata": {},
   "outputs": [
    {
     "data": {
      "text/plain": [
       "['Date', 'Open', 'High', 'Low', 'Close*', 'Adj. close**', 'Volume']"
      ]
     },
     "execution_count": 457,
     "metadata": {},
     "output_type": "execute_result"
    }
   ],
   "source": [
    "headlines2 = soup4.find('table',{'class':'W(100%) M(0)'})\n",
    "names2 = []\n",
    "for row in headlines2.findAll('th')[0:]:\n",
    "    name = row.findAll('span')[0].text\n",
    "    names2.append(name)\n",
    "names2    "
   ]
  },
  {
   "cell_type": "code",
   "execution_count": 458,
   "id": "9bec512e-adfe-4ea4-8115-3917d3b6ad83",
   "metadata": {},
   "outputs": [],
   "source": [
    "html_data2 = soup4.find('tbody')\n",
    "dates = []\n",
    "for date in html_data2.findAll('tr')[0:]:\n",
    "    temp = date.findAll('span')[0].text\n",
    "    dates.append(temp)\n"
   ]
  },
  {
   "cell_type": "code",
   "execution_count": 459,
   "id": "5e1473ca-f802-422e-b8f0-958b94d62b76",
   "metadata": {},
   "outputs": [],
   "source": [
    "opens = []\n",
    "for date in html_data2.findAll('tr')[0:]:\n",
    "    temp = date.findAll('span')[1].text\n",
    "    opens.append(temp)\n"
   ]
  },
  {
   "cell_type": "code",
   "execution_count": 460,
   "id": "65b4251c-c4db-4a7f-b2e9-3a871bf4b622",
   "metadata": {},
   "outputs": [],
   "source": [
    "high = []\n",
    "for i in html_data2.findAll('tr')[0:]:\n",
    "    temp = i.findAll('span')[2].text\n",
    "    high.append(temp)\n"
   ]
  },
  {
   "cell_type": "code",
   "execution_count": 461,
   "id": "64ad3844-9a20-4148-97d3-9318f93cb27a",
   "metadata": {},
   "outputs": [],
   "source": [
    "low = []\n",
    "for i in html_data2.findAll('tr')[0:]:\n",
    "    temp = i.findAll('span')[3].text\n",
    "    low.append(temp)\n"
   ]
  },
  {
   "cell_type": "code",
   "execution_count": 462,
   "id": "639bd32a-f810-4ac8-8807-3857b2727f62",
   "metadata": {},
   "outputs": [],
   "source": [
    "close = []\n",
    "for i in html_data2.findAll('tr')[0:]:\n",
    "    temp = i.findAll('span')[4].text\n",
    "    close.append(temp)\n",
    "    "
   ]
  },
  {
   "cell_type": "code",
   "execution_count": 463,
   "id": "44501bc0-18b9-40f8-9015-f6d043f5e4c4",
   "metadata": {},
   "outputs": [],
   "source": [
    "volume = []\n",
    "for i in html_data2.findAll('tr')[0:]:\n",
    "    temp = i.findAll('span')[6].text\n",
    "    volume.append(temp)\n",
    "    "
   ]
  },
  {
   "cell_type": "code",
   "execution_count": 464,
   "id": "3e40b239-bd7d-4ce6-bf56-bb9080dc420e",
   "metadata": {},
   "outputs": [],
   "source": [
    "price =[]\n",
    "for i in html_data2.findAll('tr')[0:]:\n",
    "    temp = i.findAll('span')[5].text\n",
    "    price.append(temp)"
   ]
  },
  {
   "cell_type": "code",
   "execution_count": 465,
   "id": "6c871b4a-b784-4b83-b31c-44533a837852",
   "metadata": {},
   "outputs": [],
   "source": [
    "df = pd.DataFrame(columns = names2)\n",
    "NewDate = []\n",
    "df['NewDate'] = NewDate"
   ]
  },
  {
   "cell_type": "code",
   "execution_count": 466,
   "id": "0f40eba0-e378-4aab-89d0-572bd7b67db9",
   "metadata": {},
   "outputs": [
    {
     "name": "stdout",
     "output_type": "stream",
     "text": [
      "<class 'pandas.core.frame.DataFrame'>\n",
      "Index: 0 entries\n",
      "Data columns (total 8 columns):\n",
      " #   Column        Non-Null Count  Dtype  \n",
      "---  ------        --------------  -----  \n",
      " 0   Date          0 non-null      object \n",
      " 1   Open          0 non-null      object \n",
      " 2   High          0 non-null      object \n",
      " 3   Low           0 non-null      object \n",
      " 4   Close*        0 non-null      object \n",
      " 5   Adj. close**  0 non-null      object \n",
      " 6   Volume        0 non-null      object \n",
      " 7   NewDate       0 non-null      float64\n",
      "dtypes: float64(1), object(7)\n",
      "memory usage: 0.0+ bytes\n"
     ]
    }
   ],
   "source": [
    "df.info()"
   ]
  },
  {
   "cell_type": "code",
   "execution_count": 467,
   "id": "7a7ce8f6-6fc1-4256-8e89-7706d96bb58e",
   "metadata": {},
   "outputs": [],
   "source": [
    "df['Date'] = dates\n",
    "df['Open'] = opens\n",
    "df['High'] = high\n",
    "df['Low'] = low\n",
    "df['Close*']= close\n",
    "df['Volume']= volume\n",
    "df['price']= price\n",
    "del df['Adj. close**']"
   ]
  },
  {
   "cell_type": "code",
   "execution_count": 468,
   "id": "cdd79990-b0bb-43f4-8a1f-84c6438faeb2",
   "metadata": {},
   "outputs": [
    {
     "data": {
      "text/plain": [
       "Date          0\n",
       "Open          0\n",
       "High          0\n",
       "Low           0\n",
       "Close*        0\n",
       "Volume        0\n",
       "NewDate    2769\n",
       "price         0\n",
       "dtype: int64"
      ]
     },
     "execution_count": 468,
     "metadata": {},
     "output_type": "execute_result"
    }
   ],
   "source": [
    "df.isnull().sum()"
   ]
  },
  {
   "cell_type": "code",
   "execution_count": 469,
   "id": "5b898d96-e845-4b7c-9ef2-825e7b89f2e6",
   "metadata": {},
   "outputs": [
    {
     "data": {
      "text/html": [
       "<div>\n",
       "<style scoped>\n",
       "    .dataframe tbody tr th:only-of-type {\n",
       "        vertical-align: middle;\n",
       "    }\n",
       "\n",
       "    .dataframe tbody tr th {\n",
       "        vertical-align: top;\n",
       "    }\n",
       "\n",
       "    .dataframe thead th {\n",
       "        text-align: right;\n",
       "    }\n",
       "</style>\n",
       "<table border=\"1\" class=\"dataframe\">\n",
       "  <thead>\n",
       "    <tr style=\"text-align: right;\">\n",
       "      <th></th>\n",
       "      <th>Date</th>\n",
       "      <th>Open</th>\n",
       "      <th>High</th>\n",
       "      <th>Low</th>\n",
       "      <th>Close*</th>\n",
       "      <th>Volume</th>\n",
       "      <th>NewDate</th>\n",
       "      <th>price</th>\n",
       "    </tr>\n",
       "  </thead>\n",
       "  <tbody>\n",
       "    <tr>\n",
       "      <th>0</th>\n",
       "      <td>29 Dec 2021</td>\n",
       "      <td>4,788.64</td>\n",
       "      <td>4,804.06</td>\n",
       "      <td>4,778.08</td>\n",
       "      <td>4,793.06</td>\n",
       "      <td>2,369,370,000</td>\n",
       "      <td>NaN</td>\n",
       "      <td>4,793.06</td>\n",
       "    </tr>\n",
       "    <tr>\n",
       "      <th>1</th>\n",
       "      <td>28 Dec 2021</td>\n",
       "      <td>4,795.49</td>\n",
       "      <td>4,807.02</td>\n",
       "      <td>4,780.04</td>\n",
       "      <td>4,786.35</td>\n",
       "      <td>2,217,050,000</td>\n",
       "      <td>NaN</td>\n",
       "      <td>4,786.35</td>\n",
       "    </tr>\n",
       "    <tr>\n",
       "      <th>2</th>\n",
       "      <td>27 Dec 2021</td>\n",
       "      <td>4,733.99</td>\n",
       "      <td>4,791.49</td>\n",
       "      <td>4,733.99</td>\n",
       "      <td>4,791.19</td>\n",
       "      <td>2,264,120,000</td>\n",
       "      <td>NaN</td>\n",
       "      <td>4,791.19</td>\n",
       "    </tr>\n",
       "    <tr>\n",
       "      <th>3</th>\n",
       "      <td>23 Dec 2021</td>\n",
       "      <td>4,703.96</td>\n",
       "      <td>4,740.74</td>\n",
       "      <td>4,703.96</td>\n",
       "      <td>4,725.79</td>\n",
       "      <td>2,194,630,000</td>\n",
       "      <td>NaN</td>\n",
       "      <td>4,725.79</td>\n",
       "    </tr>\n",
       "    <tr>\n",
       "      <th>4</th>\n",
       "      <td>22 Dec 2021</td>\n",
       "      <td>4,650.36</td>\n",
       "      <td>4,697.67</td>\n",
       "      <td>4,645.53</td>\n",
       "      <td>4,696.56</td>\n",
       "      <td>2,439,570,000</td>\n",
       "      <td>NaN</td>\n",
       "      <td>4,696.56</td>\n",
       "    </tr>\n",
       "    <tr>\n",
       "      <th>...</th>\n",
       "      <td>...</td>\n",
       "      <td>...</td>\n",
       "      <td>...</td>\n",
       "      <td>...</td>\n",
       "      <td>...</td>\n",
       "      <td>...</td>\n",
       "      <td>...</td>\n",
       "      <td>...</td>\n",
       "    </tr>\n",
       "    <tr>\n",
       "      <th>2764</th>\n",
       "      <td>05 Jan 2011</td>\n",
       "      <td>1,268.78</td>\n",
       "      <td>1,277.63</td>\n",
       "      <td>1,265.36</td>\n",
       "      <td>1,276.56</td>\n",
       "      <td>4,764,920,000</td>\n",
       "      <td>NaN</td>\n",
       "      <td>1,276.56</td>\n",
       "    </tr>\n",
       "    <tr>\n",
       "      <th>2765</th>\n",
       "      <td>04 Jan 2011</td>\n",
       "      <td>1,272.95</td>\n",
       "      <td>1,274.12</td>\n",
       "      <td>1,262.66</td>\n",
       "      <td>1,270.20</td>\n",
       "      <td>4,796,420,000</td>\n",
       "      <td>NaN</td>\n",
       "      <td>1,270.20</td>\n",
       "    </tr>\n",
       "    <tr>\n",
       "      <th>2766</th>\n",
       "      <td>03 Jan 2011</td>\n",
       "      <td>1,257.62</td>\n",
       "      <td>1,276.17</td>\n",
       "      <td>1,257.62</td>\n",
       "      <td>1,271.87</td>\n",
       "      <td>4,286,670,000</td>\n",
       "      <td>NaN</td>\n",
       "      <td>1,271.87</td>\n",
       "    </tr>\n",
       "    <tr>\n",
       "      <th>2767</th>\n",
       "      <td>31 Dec 2010</td>\n",
       "      <td>1,256.76</td>\n",
       "      <td>1,259.34</td>\n",
       "      <td>1,254.19</td>\n",
       "      <td>1,257.64</td>\n",
       "      <td>1,799,770,000</td>\n",
       "      <td>NaN</td>\n",
       "      <td>1,257.64</td>\n",
       "    </tr>\n",
       "    <tr>\n",
       "      <th>2768</th>\n",
       "      <td>30 Dec 2010</td>\n",
       "      <td>1,259.44</td>\n",
       "      <td>1,261.09</td>\n",
       "      <td>1,256.32</td>\n",
       "      <td>1,257.88</td>\n",
       "      <td>1,970,720,000</td>\n",
       "      <td>NaN</td>\n",
       "      <td>1,257.88</td>\n",
       "    </tr>\n",
       "  </tbody>\n",
       "</table>\n",
       "<p>2769 rows × 8 columns</p>\n",
       "</div>"
      ],
      "text/plain": [
       "             Date      Open      High       Low    Close*         Volume  \\\n",
       "0     29 Dec 2021  4,788.64  4,804.06  4,778.08  4,793.06  2,369,370,000   \n",
       "1     28 Dec 2021  4,795.49  4,807.02  4,780.04  4,786.35  2,217,050,000   \n",
       "2     27 Dec 2021  4,733.99  4,791.49  4,733.99  4,791.19  2,264,120,000   \n",
       "3     23 Dec 2021  4,703.96  4,740.74  4,703.96  4,725.79  2,194,630,000   \n",
       "4     22 Dec 2021  4,650.36  4,697.67  4,645.53  4,696.56  2,439,570,000   \n",
       "...           ...       ...       ...       ...       ...            ...   \n",
       "2764  05 Jan 2011  1,268.78  1,277.63  1,265.36  1,276.56  4,764,920,000   \n",
       "2765  04 Jan 2011  1,272.95  1,274.12  1,262.66  1,270.20  4,796,420,000   \n",
       "2766  03 Jan 2011  1,257.62  1,276.17  1,257.62  1,271.87  4,286,670,000   \n",
       "2767  31 Dec 2010  1,256.76  1,259.34  1,254.19  1,257.64  1,799,770,000   \n",
       "2768  30 Dec 2010  1,259.44  1,261.09  1,256.32  1,257.88  1,970,720,000   \n",
       "\n",
       "      NewDate     price  \n",
       "0         NaN  4,793.06  \n",
       "1         NaN  4,786.35  \n",
       "2         NaN  4,791.19  \n",
       "3         NaN  4,725.79  \n",
       "4         NaN  4,696.56  \n",
       "...       ...       ...  \n",
       "2764      NaN  1,276.56  \n",
       "2765      NaN  1,270.20  \n",
       "2766      NaN  1,271.87  \n",
       "2767      NaN  1,257.64  \n",
       "2768      NaN  1,257.88  \n",
       "\n",
       "[2769 rows x 8 columns]"
      ]
     },
     "execution_count": 469,
     "metadata": {},
     "output_type": "execute_result"
    }
   ],
   "source": [
    "df"
   ]
  },
  {
   "cell_type": "code",
   "execution_count": 433,
   "id": "c2cd8606-c20c-4346-86a7-e7e5c769f02f",
   "metadata": {},
   "outputs": [
    {
     "data": {
      "text/html": [
       "<div>\n",
       "<style scoped>\n",
       "    .dataframe tbody tr th:only-of-type {\n",
       "        vertical-align: middle;\n",
       "    }\n",
       "\n",
       "    .dataframe tbody tr th {\n",
       "        vertical-align: top;\n",
       "    }\n",
       "\n",
       "    .dataframe thead th {\n",
       "        text-align: right;\n",
       "    }\n",
       "</style>\n",
       "<table border=\"1\" class=\"dataframe\">\n",
       "  <thead>\n",
       "    <tr style=\"text-align: right;\">\n",
       "      <th></th>\n",
       "      <th>Date</th>\n",
       "      <th>Open</th>\n",
       "      <th>High</th>\n",
       "      <th>Low</th>\n",
       "      <th>Close*</th>\n",
       "      <th>Volume</th>\n",
       "      <th>NewDate</th>\n",
       "      <th>price</th>\n",
       "    </tr>\n",
       "  </thead>\n",
       "  <tbody>\n",
       "    <tr>\n",
       "      <th>0</th>\n",
       "      <td>29 Dec 2021</td>\n",
       "      <td>4788.64</td>\n",
       "      <td>4804.06</td>\n",
       "      <td>4778.08</td>\n",
       "      <td>4793.06</td>\n",
       "      <td>2369370000</td>\n",
       "      <td>NaN</td>\n",
       "      <td>4793.06</td>\n",
       "    </tr>\n",
       "    <tr>\n",
       "      <th>1</th>\n",
       "      <td>28 Dec 2021</td>\n",
       "      <td>4795.49</td>\n",
       "      <td>4807.02</td>\n",
       "      <td>4780.04</td>\n",
       "      <td>4786.35</td>\n",
       "      <td>2217050000</td>\n",
       "      <td>NaN</td>\n",
       "      <td>4786.35</td>\n",
       "    </tr>\n",
       "    <tr>\n",
       "      <th>2</th>\n",
       "      <td>27 Dec 2021</td>\n",
       "      <td>4733.99</td>\n",
       "      <td>4791.49</td>\n",
       "      <td>4733.99</td>\n",
       "      <td>4791.19</td>\n",
       "      <td>2264120000</td>\n",
       "      <td>NaN</td>\n",
       "      <td>4791.19</td>\n",
       "    </tr>\n",
       "    <tr>\n",
       "      <th>3</th>\n",
       "      <td>23 Dec 2021</td>\n",
       "      <td>4703.96</td>\n",
       "      <td>4740.74</td>\n",
       "      <td>4703.96</td>\n",
       "      <td>4725.79</td>\n",
       "      <td>2194630000</td>\n",
       "      <td>NaN</td>\n",
       "      <td>4725.79</td>\n",
       "    </tr>\n",
       "    <tr>\n",
       "      <th>4</th>\n",
       "      <td>22 Dec 2021</td>\n",
       "      <td>4650.36</td>\n",
       "      <td>4697.67</td>\n",
       "      <td>4645.53</td>\n",
       "      <td>4696.56</td>\n",
       "      <td>2439570000</td>\n",
       "      <td>NaN</td>\n",
       "      <td>4696.56</td>\n",
       "    </tr>\n",
       "    <tr>\n",
       "      <th>...</th>\n",
       "      <td>...</td>\n",
       "      <td>...</td>\n",
       "      <td>...</td>\n",
       "      <td>...</td>\n",
       "      <td>...</td>\n",
       "      <td>...</td>\n",
       "      <td>...</td>\n",
       "      <td>...</td>\n",
       "    </tr>\n",
       "    <tr>\n",
       "      <th>2764</th>\n",
       "      <td>05 Jan 2011</td>\n",
       "      <td>1268.78</td>\n",
       "      <td>1277.63</td>\n",
       "      <td>1265.36</td>\n",
       "      <td>1276.56</td>\n",
       "      <td>4764920000</td>\n",
       "      <td>NaN</td>\n",
       "      <td>1276.56</td>\n",
       "    </tr>\n",
       "    <tr>\n",
       "      <th>2765</th>\n",
       "      <td>04 Jan 2011</td>\n",
       "      <td>1272.95</td>\n",
       "      <td>1274.12</td>\n",
       "      <td>1262.66</td>\n",
       "      <td>1270.20</td>\n",
       "      <td>4796420000</td>\n",
       "      <td>NaN</td>\n",
       "      <td>1270.20</td>\n",
       "    </tr>\n",
       "    <tr>\n",
       "      <th>2766</th>\n",
       "      <td>03 Jan 2011</td>\n",
       "      <td>1257.62</td>\n",
       "      <td>1276.17</td>\n",
       "      <td>1257.62</td>\n",
       "      <td>1271.87</td>\n",
       "      <td>4286670000</td>\n",
       "      <td>NaN</td>\n",
       "      <td>1271.87</td>\n",
       "    </tr>\n",
       "    <tr>\n",
       "      <th>2767</th>\n",
       "      <td>31 Dec 2010</td>\n",
       "      <td>1256.76</td>\n",
       "      <td>1259.34</td>\n",
       "      <td>1254.19</td>\n",
       "      <td>1257.64</td>\n",
       "      <td>1799770000</td>\n",
       "      <td>NaN</td>\n",
       "      <td>1257.64</td>\n",
       "    </tr>\n",
       "    <tr>\n",
       "      <th>2768</th>\n",
       "      <td>30 Dec 2010</td>\n",
       "      <td>1259.44</td>\n",
       "      <td>1261.09</td>\n",
       "      <td>1256.32</td>\n",
       "      <td>1257.88</td>\n",
       "      <td>1970720000</td>\n",
       "      <td>NaN</td>\n",
       "      <td>1257.88</td>\n",
       "    </tr>\n",
       "  </tbody>\n",
       "</table>\n",
       "<p>2769 rows × 8 columns</p>\n",
       "</div>"
      ],
      "text/plain": [
       "             Date     Open     High      Low   Close*      Volume  NewDate  \\\n",
       "0     29 Dec 2021  4788.64  4804.06  4778.08  4793.06  2369370000      NaN   \n",
       "1     28 Dec 2021  4795.49  4807.02  4780.04  4786.35  2217050000      NaN   \n",
       "2     27 Dec 2021  4733.99  4791.49  4733.99  4791.19  2264120000      NaN   \n",
       "3     23 Dec 2021  4703.96  4740.74  4703.96  4725.79  2194630000      NaN   \n",
       "4     22 Dec 2021  4650.36  4697.67  4645.53  4696.56  2439570000      NaN   \n",
       "...           ...      ...      ...      ...      ...         ...      ...   \n",
       "2764  05 Jan 2011  1268.78  1277.63  1265.36  1276.56  4764920000      NaN   \n",
       "2765  04 Jan 2011  1272.95  1274.12  1262.66  1270.20  4796420000      NaN   \n",
       "2766  03 Jan 2011  1257.62  1276.17  1257.62  1271.87  4286670000      NaN   \n",
       "2767  31 Dec 2010  1256.76  1259.34  1254.19  1257.64  1799770000      NaN   \n",
       "2768  30 Dec 2010  1259.44  1261.09  1256.32  1257.88  1970720000      NaN   \n",
       "\n",
       "        price  \n",
       "0     4793.06  \n",
       "1     4786.35  \n",
       "2     4791.19  \n",
       "3     4725.79  \n",
       "4     4696.56  \n",
       "...       ...  \n",
       "2764  1276.56  \n",
       "2765  1270.20  \n",
       "2766  1271.87  \n",
       "2767  1257.64  \n",
       "2768  1257.88  \n",
       "\n",
       "[2769 rows x 8 columns]"
      ]
     },
     "execution_count": 433,
     "metadata": {},
     "output_type": "execute_result"
    }
   ],
   "source": [
    "pd.to_datetime(df['Date'])\n",
    "df['Open']=df['Open'].str.replace(',','')\n",
    "df['High']=df['High'].str.replace(',','')\n",
    "df['Low']=df['Low'].str.replace(',','')\n",
    "df['Close*']=df['Close*'].str.replace(',','')\n",
    "df['Volume']=df['Volume'].str.replace(',','')\n",
    "df['price']=df['price'].str.replace(',','')\n",
    "df"
   ]
  },
  {
   "cell_type": "code",
   "execution_count": 434,
   "id": "45eb12ee-a5a0-4e8f-bd91-1b3266262433",
   "metadata": {},
   "outputs": [],
   "source": [
    "for col in df.columns:\n",
    "    if col=='Date':\n",
    "        continue\n",
    "    else:\n",
    "        df[col]=pd.to_numeric(df[col])  \n"
   ]
  },
  {
   "cell_type": "code",
   "execution_count": 435,
   "id": "e2151ac7-05d2-428c-93c4-b9c0e114f4a4",
   "metadata": {},
   "outputs": [],
   "source": [
    "df['NewDate'] = (pd.Series(df['Date']).str.replace('Jan', '01', regex=True).str.replace('Feb', '02', regex=True)\n",
    ".str.replace('Mar', '03', regex=True).str.replace('Apr', '04', regex=True).str.replace('May', '05', regex=True)\n",
    ".str.replace('Jun', '06', regex=True).str.replace('Jul', '07', regex=True).str.replace('Aug', '08', regex=True)\n",
    ".str.replace('Sept', '09', regex=True).str.replace('Oct', '10', regex=True).str.replace('Nov', '11', regex=True)\n",
    ".str.replace('Dec', '12', regex=True))\n"
   ]
  },
  {
   "cell_type": "code",
   "execution_count": 436,
   "id": "a9b24f86-beb6-4b6e-90ab-a319aa3a5ab9",
   "metadata": {},
   "outputs": [
    {
     "data": {
      "text/html": [
       "<div>\n",
       "<style scoped>\n",
       "    .dataframe tbody tr th:only-of-type {\n",
       "        vertical-align: middle;\n",
       "    }\n",
       "\n",
       "    .dataframe tbody tr th {\n",
       "        vertical-align: top;\n",
       "    }\n",
       "\n",
       "    .dataframe thead th {\n",
       "        text-align: right;\n",
       "    }\n",
       "</style>\n",
       "<table border=\"1\" class=\"dataframe\">\n",
       "  <thead>\n",
       "    <tr style=\"text-align: right;\">\n",
       "      <th></th>\n",
       "      <th>Date</th>\n",
       "      <th>Open</th>\n",
       "      <th>High</th>\n",
       "      <th>Low</th>\n",
       "      <th>Close*</th>\n",
       "      <th>Volume</th>\n",
       "      <th>NewDate</th>\n",
       "      <th>price</th>\n",
       "    </tr>\n",
       "  </thead>\n",
       "  <tbody>\n",
       "    <tr>\n",
       "      <th>0</th>\n",
       "      <td>29 Dec 2021</td>\n",
       "      <td>4788.64</td>\n",
       "      <td>4804.06</td>\n",
       "      <td>4778.08</td>\n",
       "      <td>4793.06</td>\n",
       "      <td>2369370000</td>\n",
       "      <td>29-12-2021</td>\n",
       "      <td>4793.06</td>\n",
       "    </tr>\n",
       "    <tr>\n",
       "      <th>1</th>\n",
       "      <td>28 Dec 2021</td>\n",
       "      <td>4795.49</td>\n",
       "      <td>4807.02</td>\n",
       "      <td>4780.04</td>\n",
       "      <td>4786.35</td>\n",
       "      <td>2217050000</td>\n",
       "      <td>28-12-2021</td>\n",
       "      <td>4786.35</td>\n",
       "    </tr>\n",
       "    <tr>\n",
       "      <th>2</th>\n",
       "      <td>27 Dec 2021</td>\n",
       "      <td>4733.99</td>\n",
       "      <td>4791.49</td>\n",
       "      <td>4733.99</td>\n",
       "      <td>4791.19</td>\n",
       "      <td>2264120000</td>\n",
       "      <td>27-12-2021</td>\n",
       "      <td>4791.19</td>\n",
       "    </tr>\n",
       "    <tr>\n",
       "      <th>3</th>\n",
       "      <td>23 Dec 2021</td>\n",
       "      <td>4703.96</td>\n",
       "      <td>4740.74</td>\n",
       "      <td>4703.96</td>\n",
       "      <td>4725.79</td>\n",
       "      <td>2194630000</td>\n",
       "      <td>23-12-2021</td>\n",
       "      <td>4725.79</td>\n",
       "    </tr>\n",
       "    <tr>\n",
       "      <th>4</th>\n",
       "      <td>22 Dec 2021</td>\n",
       "      <td>4650.36</td>\n",
       "      <td>4697.67</td>\n",
       "      <td>4645.53</td>\n",
       "      <td>4696.56</td>\n",
       "      <td>2439570000</td>\n",
       "      <td>22-12-2021</td>\n",
       "      <td>4696.56</td>\n",
       "    </tr>\n",
       "    <tr>\n",
       "      <th>...</th>\n",
       "      <td>...</td>\n",
       "      <td>...</td>\n",
       "      <td>...</td>\n",
       "      <td>...</td>\n",
       "      <td>...</td>\n",
       "      <td>...</td>\n",
       "      <td>...</td>\n",
       "      <td>...</td>\n",
       "    </tr>\n",
       "    <tr>\n",
       "      <th>2764</th>\n",
       "      <td>05 Jan 2011</td>\n",
       "      <td>1268.78</td>\n",
       "      <td>1277.63</td>\n",
       "      <td>1265.36</td>\n",
       "      <td>1276.56</td>\n",
       "      <td>4764920000</td>\n",
       "      <td>05-01-2011</td>\n",
       "      <td>1276.56</td>\n",
       "    </tr>\n",
       "    <tr>\n",
       "      <th>2765</th>\n",
       "      <td>04 Jan 2011</td>\n",
       "      <td>1272.95</td>\n",
       "      <td>1274.12</td>\n",
       "      <td>1262.66</td>\n",
       "      <td>1270.20</td>\n",
       "      <td>4796420000</td>\n",
       "      <td>04-01-2011</td>\n",
       "      <td>1270.20</td>\n",
       "    </tr>\n",
       "    <tr>\n",
       "      <th>2766</th>\n",
       "      <td>03 Jan 2011</td>\n",
       "      <td>1257.62</td>\n",
       "      <td>1276.17</td>\n",
       "      <td>1257.62</td>\n",
       "      <td>1271.87</td>\n",
       "      <td>4286670000</td>\n",
       "      <td>03-01-2011</td>\n",
       "      <td>1271.87</td>\n",
       "    </tr>\n",
       "    <tr>\n",
       "      <th>2767</th>\n",
       "      <td>31 Dec 2010</td>\n",
       "      <td>1256.76</td>\n",
       "      <td>1259.34</td>\n",
       "      <td>1254.19</td>\n",
       "      <td>1257.64</td>\n",
       "      <td>1799770000</td>\n",
       "      <td>31-12-2010</td>\n",
       "      <td>1257.64</td>\n",
       "    </tr>\n",
       "    <tr>\n",
       "      <th>2768</th>\n",
       "      <td>30 Dec 2010</td>\n",
       "      <td>1259.44</td>\n",
       "      <td>1261.09</td>\n",
       "      <td>1256.32</td>\n",
       "      <td>1257.88</td>\n",
       "      <td>1970720000</td>\n",
       "      <td>30-12-2010</td>\n",
       "      <td>1257.88</td>\n",
       "    </tr>\n",
       "  </tbody>\n",
       "</table>\n",
       "<p>2769 rows × 8 columns</p>\n",
       "</div>"
      ],
      "text/plain": [
       "             Date     Open     High      Low   Close*      Volume     NewDate  \\\n",
       "0     29 Dec 2021  4788.64  4804.06  4778.08  4793.06  2369370000  29-12-2021   \n",
       "1     28 Dec 2021  4795.49  4807.02  4780.04  4786.35  2217050000  28-12-2021   \n",
       "2     27 Dec 2021  4733.99  4791.49  4733.99  4791.19  2264120000  27-12-2021   \n",
       "3     23 Dec 2021  4703.96  4740.74  4703.96  4725.79  2194630000  23-12-2021   \n",
       "4     22 Dec 2021  4650.36  4697.67  4645.53  4696.56  2439570000  22-12-2021   \n",
       "...           ...      ...      ...      ...      ...         ...         ...   \n",
       "2764  05 Jan 2011  1268.78  1277.63  1265.36  1276.56  4764920000  05-01-2011   \n",
       "2765  04 Jan 2011  1272.95  1274.12  1262.66  1270.20  4796420000  04-01-2011   \n",
       "2766  03 Jan 2011  1257.62  1276.17  1257.62  1271.87  4286670000  03-01-2011   \n",
       "2767  31 Dec 2010  1256.76  1259.34  1254.19  1257.64  1799770000  31-12-2010   \n",
       "2768  30 Dec 2010  1259.44  1261.09  1256.32  1257.88  1970720000  30-12-2010   \n",
       "\n",
       "        price  \n",
       "0     4793.06  \n",
       "1     4786.35  \n",
       "2     4791.19  \n",
       "3     4725.79  \n",
       "4     4696.56  \n",
       "...       ...  \n",
       "2764  1276.56  \n",
       "2765  1270.20  \n",
       "2766  1271.87  \n",
       "2767  1257.64  \n",
       "2768  1257.88  \n",
       "\n",
       "[2769 rows x 8 columns]"
      ]
     },
     "execution_count": 436,
     "metadata": {},
     "output_type": "execute_result"
    }
   ],
   "source": [
    "df['NewDate']=df['NewDate'].str.replace(' ','-')\n",
    "df"
   ]
  },
  {
   "cell_type": "code",
   "execution_count": 437,
   "id": "844241bb-e941-4999-913c-1e55265e984c",
   "metadata": {},
   "outputs": [
    {
     "data": {
      "text/html": [
       "<div>\n",
       "<style scoped>\n",
       "    .dataframe tbody tr th:only-of-type {\n",
       "        vertical-align: middle;\n",
       "    }\n",
       "\n",
       "    .dataframe tbody tr th {\n",
       "        vertical-align: top;\n",
       "    }\n",
       "\n",
       "    .dataframe thead th {\n",
       "        text-align: right;\n",
       "    }\n",
       "</style>\n",
       "<table border=\"1\" class=\"dataframe\">\n",
       "  <thead>\n",
       "    <tr style=\"text-align: right;\">\n",
       "      <th></th>\n",
       "      <th>Open</th>\n",
       "      <th>High</th>\n",
       "      <th>Low</th>\n",
       "      <th>Close*</th>\n",
       "      <th>Volume</th>\n",
       "      <th>NewDate</th>\n",
       "      <th>price</th>\n",
       "    </tr>\n",
       "  </thead>\n",
       "  <tbody>\n",
       "    <tr>\n",
       "      <th>0</th>\n",
       "      <td>4788.64</td>\n",
       "      <td>4804.06</td>\n",
       "      <td>4778.08</td>\n",
       "      <td>4793.06</td>\n",
       "      <td>2369370000</td>\n",
       "      <td>29-12-2021</td>\n",
       "      <td>4793.06</td>\n",
       "    </tr>\n",
       "    <tr>\n",
       "      <th>1</th>\n",
       "      <td>4795.49</td>\n",
       "      <td>4807.02</td>\n",
       "      <td>4780.04</td>\n",
       "      <td>4786.35</td>\n",
       "      <td>2217050000</td>\n",
       "      <td>28-12-2021</td>\n",
       "      <td>4786.35</td>\n",
       "    </tr>\n",
       "    <tr>\n",
       "      <th>2</th>\n",
       "      <td>4733.99</td>\n",
       "      <td>4791.49</td>\n",
       "      <td>4733.99</td>\n",
       "      <td>4791.19</td>\n",
       "      <td>2264120000</td>\n",
       "      <td>27-12-2021</td>\n",
       "      <td>4791.19</td>\n",
       "    </tr>\n",
       "    <tr>\n",
       "      <th>3</th>\n",
       "      <td>4703.96</td>\n",
       "      <td>4740.74</td>\n",
       "      <td>4703.96</td>\n",
       "      <td>4725.79</td>\n",
       "      <td>2194630000</td>\n",
       "      <td>23-12-2021</td>\n",
       "      <td>4725.79</td>\n",
       "    </tr>\n",
       "    <tr>\n",
       "      <th>4</th>\n",
       "      <td>4650.36</td>\n",
       "      <td>4697.67</td>\n",
       "      <td>4645.53</td>\n",
       "      <td>4696.56</td>\n",
       "      <td>2439570000</td>\n",
       "      <td>22-12-2021</td>\n",
       "      <td>4696.56</td>\n",
       "    </tr>\n",
       "    <tr>\n",
       "      <th>...</th>\n",
       "      <td>...</td>\n",
       "      <td>...</td>\n",
       "      <td>...</td>\n",
       "      <td>...</td>\n",
       "      <td>...</td>\n",
       "      <td>...</td>\n",
       "      <td>...</td>\n",
       "    </tr>\n",
       "    <tr>\n",
       "      <th>2764</th>\n",
       "      <td>1268.78</td>\n",
       "      <td>1277.63</td>\n",
       "      <td>1265.36</td>\n",
       "      <td>1276.56</td>\n",
       "      <td>4764920000</td>\n",
       "      <td>05-01-2011</td>\n",
       "      <td>1276.56</td>\n",
       "    </tr>\n",
       "    <tr>\n",
       "      <th>2765</th>\n",
       "      <td>1272.95</td>\n",
       "      <td>1274.12</td>\n",
       "      <td>1262.66</td>\n",
       "      <td>1270.20</td>\n",
       "      <td>4796420000</td>\n",
       "      <td>04-01-2011</td>\n",
       "      <td>1270.20</td>\n",
       "    </tr>\n",
       "    <tr>\n",
       "      <th>2766</th>\n",
       "      <td>1257.62</td>\n",
       "      <td>1276.17</td>\n",
       "      <td>1257.62</td>\n",
       "      <td>1271.87</td>\n",
       "      <td>4286670000</td>\n",
       "      <td>03-01-2011</td>\n",
       "      <td>1271.87</td>\n",
       "    </tr>\n",
       "    <tr>\n",
       "      <th>2767</th>\n",
       "      <td>1256.76</td>\n",
       "      <td>1259.34</td>\n",
       "      <td>1254.19</td>\n",
       "      <td>1257.64</td>\n",
       "      <td>1799770000</td>\n",
       "      <td>31-12-2010</td>\n",
       "      <td>1257.64</td>\n",
       "    </tr>\n",
       "    <tr>\n",
       "      <th>2768</th>\n",
       "      <td>1259.44</td>\n",
       "      <td>1261.09</td>\n",
       "      <td>1256.32</td>\n",
       "      <td>1257.88</td>\n",
       "      <td>1970720000</td>\n",
       "      <td>30-12-2010</td>\n",
       "      <td>1257.88</td>\n",
       "    </tr>\n",
       "  </tbody>\n",
       "</table>\n",
       "<p>2769 rows × 7 columns</p>\n",
       "</div>"
      ],
      "text/plain": [
       "         Open     High      Low   Close*      Volume     NewDate    price\n",
       "0     4788.64  4804.06  4778.08  4793.06  2369370000  29-12-2021  4793.06\n",
       "1     4795.49  4807.02  4780.04  4786.35  2217050000  28-12-2021  4786.35\n",
       "2     4733.99  4791.49  4733.99  4791.19  2264120000  27-12-2021  4791.19\n",
       "3     4703.96  4740.74  4703.96  4725.79  2194630000  23-12-2021  4725.79\n",
       "4     4650.36  4697.67  4645.53  4696.56  2439570000  22-12-2021  4696.56\n",
       "...       ...      ...      ...      ...         ...         ...      ...\n",
       "2764  1268.78  1277.63  1265.36  1276.56  4764920000  05-01-2011  1276.56\n",
       "2765  1272.95  1274.12  1262.66  1270.20  4796420000  04-01-2011  1270.20\n",
       "2766  1257.62  1276.17  1257.62  1271.87  4286670000  03-01-2011  1271.87\n",
       "2767  1256.76  1259.34  1254.19  1257.64  1799770000  31-12-2010  1257.64\n",
       "2768  1259.44  1261.09  1256.32  1257.88  1970720000  30-12-2010  1257.88\n",
       "\n",
       "[2769 rows x 7 columns]"
      ]
     },
     "execution_count": 437,
     "metadata": {},
     "output_type": "execute_result"
    }
   ],
   "source": [
    "del df['Date']\n",
    "df"
   ]
  },
  {
   "cell_type": "code",
   "execution_count": 438,
   "id": "66418650-7566-4682-a40c-dca60acfdb1a",
   "metadata": {},
   "outputs": [
    {
     "data": {
      "text/html": [
       "<div>\n",
       "<style scoped>\n",
       "    .dataframe tbody tr th:only-of-type {\n",
       "        vertical-align: middle;\n",
       "    }\n",
       "\n",
       "    .dataframe tbody tr th {\n",
       "        vertical-align: top;\n",
       "    }\n",
       "\n",
       "    .dataframe thead th {\n",
       "        text-align: right;\n",
       "    }\n",
       "</style>\n",
       "<table border=\"1\" class=\"dataframe\">\n",
       "  <thead>\n",
       "    <tr style=\"text-align: right;\">\n",
       "      <th></th>\n",
       "      <th>Open</th>\n",
       "      <th>High</th>\n",
       "      <th>Low</th>\n",
       "      <th>Close*</th>\n",
       "      <th>Volume</th>\n",
       "      <th>NewDate</th>\n",
       "      <th>price</th>\n",
       "    </tr>\n",
       "  </thead>\n",
       "  <tbody>\n",
       "    <tr>\n",
       "      <th>2768</th>\n",
       "      <td>1259.44</td>\n",
       "      <td>1261.09</td>\n",
       "      <td>1256.32</td>\n",
       "      <td>1257.88</td>\n",
       "      <td>1970720000</td>\n",
       "      <td>2010-12-30</td>\n",
       "      <td>1257.88</td>\n",
       "    </tr>\n",
       "    <tr>\n",
       "      <th>2767</th>\n",
       "      <td>1256.76</td>\n",
       "      <td>1259.34</td>\n",
       "      <td>1254.19</td>\n",
       "      <td>1257.64</td>\n",
       "      <td>1799770000</td>\n",
       "      <td>2010-12-31</td>\n",
       "      <td>1257.64</td>\n",
       "    </tr>\n",
       "    <tr>\n",
       "      <th>2766</th>\n",
       "      <td>1257.62</td>\n",
       "      <td>1276.17</td>\n",
       "      <td>1257.62</td>\n",
       "      <td>1271.87</td>\n",
       "      <td>4286670000</td>\n",
       "      <td>2011-01-03</td>\n",
       "      <td>1271.87</td>\n",
       "    </tr>\n",
       "    <tr>\n",
       "      <th>2765</th>\n",
       "      <td>1272.95</td>\n",
       "      <td>1274.12</td>\n",
       "      <td>1262.66</td>\n",
       "      <td>1270.20</td>\n",
       "      <td>4796420000</td>\n",
       "      <td>2011-01-04</td>\n",
       "      <td>1270.20</td>\n",
       "    </tr>\n",
       "    <tr>\n",
       "      <th>2764</th>\n",
       "      <td>1268.78</td>\n",
       "      <td>1277.63</td>\n",
       "      <td>1265.36</td>\n",
       "      <td>1276.56</td>\n",
       "      <td>4764920000</td>\n",
       "      <td>2011-01-05</td>\n",
       "      <td>1276.56</td>\n",
       "    </tr>\n",
       "    <tr>\n",
       "      <th>...</th>\n",
       "      <td>...</td>\n",
       "      <td>...</td>\n",
       "      <td>...</td>\n",
       "      <td>...</td>\n",
       "      <td>...</td>\n",
       "      <td>...</td>\n",
       "      <td>...</td>\n",
       "    </tr>\n",
       "    <tr>\n",
       "      <th>4</th>\n",
       "      <td>4650.36</td>\n",
       "      <td>4697.67</td>\n",
       "      <td>4645.53</td>\n",
       "      <td>4696.56</td>\n",
       "      <td>2439570000</td>\n",
       "      <td>2021-12-22</td>\n",
       "      <td>4696.56</td>\n",
       "    </tr>\n",
       "    <tr>\n",
       "      <th>3</th>\n",
       "      <td>4703.96</td>\n",
       "      <td>4740.74</td>\n",
       "      <td>4703.96</td>\n",
       "      <td>4725.79</td>\n",
       "      <td>2194630000</td>\n",
       "      <td>2021-12-23</td>\n",
       "      <td>4725.79</td>\n",
       "    </tr>\n",
       "    <tr>\n",
       "      <th>2</th>\n",
       "      <td>4733.99</td>\n",
       "      <td>4791.49</td>\n",
       "      <td>4733.99</td>\n",
       "      <td>4791.19</td>\n",
       "      <td>2264120000</td>\n",
       "      <td>2021-12-27</td>\n",
       "      <td>4791.19</td>\n",
       "    </tr>\n",
       "    <tr>\n",
       "      <th>1</th>\n",
       "      <td>4795.49</td>\n",
       "      <td>4807.02</td>\n",
       "      <td>4780.04</td>\n",
       "      <td>4786.35</td>\n",
       "      <td>2217050000</td>\n",
       "      <td>2021-12-28</td>\n",
       "      <td>4786.35</td>\n",
       "    </tr>\n",
       "    <tr>\n",
       "      <th>0</th>\n",
       "      <td>4788.64</td>\n",
       "      <td>4804.06</td>\n",
       "      <td>4778.08</td>\n",
       "      <td>4793.06</td>\n",
       "      <td>2369370000</td>\n",
       "      <td>2021-12-29</td>\n",
       "      <td>4793.06</td>\n",
       "    </tr>\n",
       "  </tbody>\n",
       "</table>\n",
       "<p>2769 rows × 7 columns</p>\n",
       "</div>"
      ],
      "text/plain": [
       "         Open     High      Low   Close*      Volume    NewDate    price\n",
       "2768  1259.44  1261.09  1256.32  1257.88  1970720000 2010-12-30  1257.88\n",
       "2767  1256.76  1259.34  1254.19  1257.64  1799770000 2010-12-31  1257.64\n",
       "2766  1257.62  1276.17  1257.62  1271.87  4286670000 2011-01-03  1271.87\n",
       "2765  1272.95  1274.12  1262.66  1270.20  4796420000 2011-01-04  1270.20\n",
       "2764  1268.78  1277.63  1265.36  1276.56  4764920000 2011-01-05  1276.56\n",
       "...       ...      ...      ...      ...         ...        ...      ...\n",
       "4     4650.36  4697.67  4645.53  4696.56  2439570000 2021-12-22  4696.56\n",
       "3     4703.96  4740.74  4703.96  4725.79  2194630000 2021-12-23  4725.79\n",
       "2     4733.99  4791.49  4733.99  4791.19  2264120000 2021-12-27  4791.19\n",
       "1     4795.49  4807.02  4780.04  4786.35  2217050000 2021-12-28  4786.35\n",
       "0     4788.64  4804.06  4778.08  4793.06  2369370000 2021-12-29  4793.06\n",
       "\n",
       "[2769 rows x 7 columns]"
      ]
     },
     "execution_count": 438,
     "metadata": {},
     "output_type": "execute_result"
    }
   ],
   "source": [
    "df['NewDate'] = pd.to_datetime(df.NewDate,format='%d-%m-%Y')\n",
    "df = df.sort_values(by=\"NewDate\")\n",
    "df.reindex(index=df.index[::-1])\n",
    "#df.index = df['NewDate']\n",
    "df"
   ]
  },
  {
   "cell_type": "code",
   "execution_count": 439,
   "id": "c00e1ff5-f0a0-4314-9718-54c408b1509e",
   "metadata": {},
   "outputs": [
    {
     "data": {
      "text/html": [
       "<div>\n",
       "<style scoped>\n",
       "    .dataframe tbody tr th:only-of-type {\n",
       "        vertical-align: middle;\n",
       "    }\n",
       "\n",
       "    .dataframe tbody tr th {\n",
       "        vertical-align: top;\n",
       "    }\n",
       "\n",
       "    .dataframe thead th {\n",
       "        text-align: right;\n",
       "    }\n",
       "</style>\n",
       "<table border=\"1\" class=\"dataframe\">\n",
       "  <thead>\n",
       "    <tr style=\"text-align: right;\">\n",
       "      <th></th>\n",
       "      <th>Open</th>\n",
       "      <th>High</th>\n",
       "      <th>Low</th>\n",
       "      <th>Close*</th>\n",
       "      <th>Volume</th>\n",
       "      <th>NewDate</th>\n",
       "      <th>price</th>\n",
       "      <th>month</th>\n",
       "    </tr>\n",
       "  </thead>\n",
       "  <tbody>\n",
       "    <tr>\n",
       "      <th>2768</th>\n",
       "      <td>1259.44</td>\n",
       "      <td>1261.09</td>\n",
       "      <td>1256.32</td>\n",
       "      <td>1257.88</td>\n",
       "      <td>1970720000</td>\n",
       "      <td>2010-12-30</td>\n",
       "      <td>1257.88</td>\n",
       "      <td>12</td>\n",
       "    </tr>\n",
       "    <tr>\n",
       "      <th>2767</th>\n",
       "      <td>1256.76</td>\n",
       "      <td>1259.34</td>\n",
       "      <td>1254.19</td>\n",
       "      <td>1257.64</td>\n",
       "      <td>1799770000</td>\n",
       "      <td>2010-12-31</td>\n",
       "      <td>1257.64</td>\n",
       "      <td>12</td>\n",
       "    </tr>\n",
       "    <tr>\n",
       "      <th>2766</th>\n",
       "      <td>1257.62</td>\n",
       "      <td>1276.17</td>\n",
       "      <td>1257.62</td>\n",
       "      <td>1271.87</td>\n",
       "      <td>4286670000</td>\n",
       "      <td>2011-01-03</td>\n",
       "      <td>1271.87</td>\n",
       "      <td>1</td>\n",
       "    </tr>\n",
       "    <tr>\n",
       "      <th>2765</th>\n",
       "      <td>1272.95</td>\n",
       "      <td>1274.12</td>\n",
       "      <td>1262.66</td>\n",
       "      <td>1270.20</td>\n",
       "      <td>4796420000</td>\n",
       "      <td>2011-01-04</td>\n",
       "      <td>1270.20</td>\n",
       "      <td>1</td>\n",
       "    </tr>\n",
       "    <tr>\n",
       "      <th>2764</th>\n",
       "      <td>1268.78</td>\n",
       "      <td>1277.63</td>\n",
       "      <td>1265.36</td>\n",
       "      <td>1276.56</td>\n",
       "      <td>4764920000</td>\n",
       "      <td>2011-01-05</td>\n",
       "      <td>1276.56</td>\n",
       "      <td>1</td>\n",
       "    </tr>\n",
       "    <tr>\n",
       "      <th>...</th>\n",
       "      <td>...</td>\n",
       "      <td>...</td>\n",
       "      <td>...</td>\n",
       "      <td>...</td>\n",
       "      <td>...</td>\n",
       "      <td>...</td>\n",
       "      <td>...</td>\n",
       "      <td>...</td>\n",
       "    </tr>\n",
       "    <tr>\n",
       "      <th>4</th>\n",
       "      <td>4650.36</td>\n",
       "      <td>4697.67</td>\n",
       "      <td>4645.53</td>\n",
       "      <td>4696.56</td>\n",
       "      <td>2439570000</td>\n",
       "      <td>2021-12-22</td>\n",
       "      <td>4696.56</td>\n",
       "      <td>12</td>\n",
       "    </tr>\n",
       "    <tr>\n",
       "      <th>3</th>\n",
       "      <td>4703.96</td>\n",
       "      <td>4740.74</td>\n",
       "      <td>4703.96</td>\n",
       "      <td>4725.79</td>\n",
       "      <td>2194630000</td>\n",
       "      <td>2021-12-23</td>\n",
       "      <td>4725.79</td>\n",
       "      <td>12</td>\n",
       "    </tr>\n",
       "    <tr>\n",
       "      <th>2</th>\n",
       "      <td>4733.99</td>\n",
       "      <td>4791.49</td>\n",
       "      <td>4733.99</td>\n",
       "      <td>4791.19</td>\n",
       "      <td>2264120000</td>\n",
       "      <td>2021-12-27</td>\n",
       "      <td>4791.19</td>\n",
       "      <td>12</td>\n",
       "    </tr>\n",
       "    <tr>\n",
       "      <th>1</th>\n",
       "      <td>4795.49</td>\n",
       "      <td>4807.02</td>\n",
       "      <td>4780.04</td>\n",
       "      <td>4786.35</td>\n",
       "      <td>2217050000</td>\n",
       "      <td>2021-12-28</td>\n",
       "      <td>4786.35</td>\n",
       "      <td>12</td>\n",
       "    </tr>\n",
       "    <tr>\n",
       "      <th>0</th>\n",
       "      <td>4788.64</td>\n",
       "      <td>4804.06</td>\n",
       "      <td>4778.08</td>\n",
       "      <td>4793.06</td>\n",
       "      <td>2369370000</td>\n",
       "      <td>2021-12-29</td>\n",
       "      <td>4793.06</td>\n",
       "      <td>12</td>\n",
       "    </tr>\n",
       "  </tbody>\n",
       "</table>\n",
       "<p>2769 rows × 8 columns</p>\n",
       "</div>"
      ],
      "text/plain": [
       "         Open     High      Low   Close*      Volume    NewDate    price  \\\n",
       "2768  1259.44  1261.09  1256.32  1257.88  1970720000 2010-12-30  1257.88   \n",
       "2767  1256.76  1259.34  1254.19  1257.64  1799770000 2010-12-31  1257.64   \n",
       "2766  1257.62  1276.17  1257.62  1271.87  4286670000 2011-01-03  1271.87   \n",
       "2765  1272.95  1274.12  1262.66  1270.20  4796420000 2011-01-04  1270.20   \n",
       "2764  1268.78  1277.63  1265.36  1276.56  4764920000 2011-01-05  1276.56   \n",
       "...       ...      ...      ...      ...         ...        ...      ...   \n",
       "4     4650.36  4697.67  4645.53  4696.56  2439570000 2021-12-22  4696.56   \n",
       "3     4703.96  4740.74  4703.96  4725.79  2194630000 2021-12-23  4725.79   \n",
       "2     4733.99  4791.49  4733.99  4791.19  2264120000 2021-12-27  4791.19   \n",
       "1     4795.49  4807.02  4780.04  4786.35  2217050000 2021-12-28  4786.35   \n",
       "0     4788.64  4804.06  4778.08  4793.06  2369370000 2021-12-29  4793.06   \n",
       "\n",
       "      month  \n",
       "2768     12  \n",
       "2767     12  \n",
       "2766      1  \n",
       "2765      1  \n",
       "2764      1  \n",
       "...     ...  \n",
       "4        12  \n",
       "3        12  \n",
       "2        12  \n",
       "1        12  \n",
       "0        12  \n",
       "\n",
       "[2769 rows x 8 columns]"
      ]
     },
     "execution_count": 439,
     "metadata": {},
     "output_type": "execute_result"
    }
   ],
   "source": [
    "df['month'] = df['NewDate'].dt.month\n",
    "df"
   ]
  },
  {
   "cell_type": "code",
   "execution_count": 440,
   "id": "a778819b-4180-4969-bcaa-f642ae6d8156",
   "metadata": {},
   "outputs": [
    {
     "data": {
      "text/plain": [
       "Text(0, 0.5, 'USD')"
      ]
     },
     "execution_count": 440,
     "metadata": {},
     "output_type": "execute_result"
    },
    {
     "data": {
      "image/png": "[encoded data removed]",
      "text/plain": [
       "<Figure size 720x432 with 1 Axes>"
      ]
     },
     "metadata": {
      "needs_background": "light"
     },
     "output_type": "display_data"
    }
   ],
   "source": [
    "ax = df.plot(x='NewDate', y='price', style='b-', grid=True)\n",
    "ax.set_xlabel(\"date\")\n",
    "ax.set_ylabel(\"USD\")\n"
   ]
  },
  {
   "cell_type": "code",
   "execution_count": 450,
   "id": "94f1f837-69d2-45dd-9b69-38924170dbcb",
   "metadata": {},
   "outputs": [
    {
     "data": {
      "text/html": [
       "<div>\n",
       "<style scoped>\n",
       "    .dataframe tbody tr th:only-of-type {\n",
       "        vertical-align: middle;\n",
       "    }\n",
       "\n",
       "    .dataframe tbody tr th {\n",
       "        vertical-align: top;\n",
       "    }\n",
       "\n",
       "    .dataframe thead th {\n",
       "        text-align: right;\n",
       "    }\n",
       "</style>\n",
       "<table border=\"1\" class=\"dataframe\">\n",
       "  <thead>\n",
       "    <tr style=\"text-align: right;\">\n",
       "      <th></th>\n",
       "      <th>price</th>\n",
       "      <th>NewDate</th>\n",
       "    </tr>\n",
       "  </thead>\n",
       "  <tbody>\n",
       "    <tr>\n",
       "      <th>0</th>\n",
       "      <td>1257.88</td>\n",
       "      <td>2010-12-30</td>\n",
       "    </tr>\n",
       "    <tr>\n",
       "      <th>1</th>\n",
       "      <td>1257.64</td>\n",
       "      <td>2010-12-31</td>\n",
       "    </tr>\n",
       "    <tr>\n",
       "      <th>2</th>\n",
       "      <td>1271.87</td>\n",
       "      <td>2011-01-03</td>\n",
       "    </tr>\n",
       "    <tr>\n",
       "      <th>3</th>\n",
       "      <td>1270.20</td>\n",
       "      <td>2011-01-04</td>\n",
       "    </tr>\n",
       "    <tr>\n",
       "      <th>4</th>\n",
       "      <td>1276.56</td>\n",
       "      <td>2011-01-05</td>\n",
       "    </tr>\n",
       "    <tr>\n",
       "      <th>...</th>\n",
       "      <td>...</td>\n",
       "      <td>...</td>\n",
       "    </tr>\n",
       "    <tr>\n",
       "      <th>2764</th>\n",
       "      <td>4696.56</td>\n",
       "      <td>2021-12-22</td>\n",
       "    </tr>\n",
       "    <tr>\n",
       "      <th>2765</th>\n",
       "      <td>4725.79</td>\n",
       "      <td>2021-12-23</td>\n",
       "    </tr>\n",
       "    <tr>\n",
       "      <th>2766</th>\n",
       "      <td>4791.19</td>\n",
       "      <td>2021-12-27</td>\n",
       "    </tr>\n",
       "    <tr>\n",
       "      <th>2767</th>\n",
       "      <td>4786.35</td>\n",
       "      <td>2021-12-28</td>\n",
       "    </tr>\n",
       "    <tr>\n",
       "      <th>2768</th>\n",
       "      <td>4793.06</td>\n",
       "      <td>2021-12-29</td>\n",
       "    </tr>\n",
       "  </tbody>\n",
       "</table>\n",
       "<p>2769 rows × 2 columns</p>\n",
       "</div>"
      ],
      "text/plain": [
       "        price    NewDate\n",
       "0     1257.88 2010-12-30\n",
       "1     1257.64 2010-12-31\n",
       "2     1271.87 2011-01-03\n",
       "3     1270.20 2011-01-04\n",
       "4     1276.56 2011-01-05\n",
       "...       ...        ...\n",
       "2764  4696.56 2021-12-22\n",
       "2765  4725.79 2021-12-23\n",
       "2766  4791.19 2021-12-27\n",
       "2767  4786.35 2021-12-28\n",
       "2768  4793.06 2021-12-29\n",
       "\n",
       "[2769 rows x 2 columns]"
      ]
     },
     "execution_count": 450,
     "metadata": {},
     "output_type": "execute_result"
    }
   ],
   "source": [
    "df1 = df[['price','NewDate']].copy()\n",
    "df1\n",
    "df2 = df1.set_index((df.select_dtypes(include=[np.datetime64]).columns).tolist())\n",
    "df3 = df.set_index((df.select_dtypes(include=[np.datetime64]).columns).tolist())\n",
    "df1\n",
    "df1 = df1.reset_index()\n",
    "del df1['index']\n",
    "df1"
   ]
  },
  {
   "cell_type": "code",
   "execution_count": null,
   "id": "3abee354-0e2c-4a92-be8c-094b0d3c6772",
   "metadata": {},
   "outputs": [],
   "source": []
  },
  {
   "cell_type": "code",
   "execution_count": 360,
   "id": "66037713-c4d2-4962-90c2-d7b7d8f0a859",
   "metadata": {},
   "outputs": [],
   "source": [
    "def plot_moving_average(series, window, plot_intervals=False, scale=1.96):\n",
    "\n",
    "    rolling_mean = series.rolling(window=window).mean()\n",
    "    \n",
    "    plt.figure(figsize=(17,8))\n",
    "    plt.title('Moving average\\n window size = {}'.format(window))\n",
    "    plt.plot(rolling_mean, 'g', label='Rolling mean trend')\n",
    "    \n",
    "    if plot_intervals:\n",
    "        mae = mean_absolute_error(series[window:], rolling_mean[window:])\n",
    "        deviation = np.std(series[window:] - rolling_mean[window:])\n",
    "        lower_bound = rolling_mean - (mae + scale * deviation)\n",
    "        upper_bound = rolling_mean + (mae + scale * deviation)\n",
    "        plt.plot(upper_bound, 'r--', label='Upper bound / Lower bound')\n",
    "        plt.plot(lower_bound, 'r--')\n",
    "            \n",
    "    plt.plot(series[window:], label='Actual values')\n",
    "    plt.legend(loc='best')\n",
    "    plt.grid(True)"
   ]
  },
  {
   "cell_type": "code",
   "execution_count": 361,
   "id": "ebc96cb3-2f22-4496-8073-f63cd61053ac",
   "metadata": {},
   "outputs": [
    {
     "data": {
      "image/png": "[encoded data removed]",
      "text/plain": [
       "<Figure size 1224x576 with 1 Axes>"
      ]
     },
     "metadata": {
      "needs_background": "light"
     },
     "output_type": "display_data"
    }
   ],
   "source": [
    "plot_moving_average(df2.price, 60)\n",
    "\n"
   ]
  },
  {
   "cell_type": "code",
   "execution_count": 362,
   "id": "688b9065-246a-40ab-a6c0-4d15a20899ff",
   "metadata": {},
   "outputs": [
    {
     "data": {
      "image/png": "[encoded data removed]",
      "text/plain": [
       "<Figure size 720x432 with 1 Axes>"
      ]
     },
     "metadata": {
      "needs_background": "light"
     },
     "output_type": "display_data"
    }
   ],
   "source": [
    "import matplotlib.dates as mdates\n",
    "\n",
    "years = mdates.YearLocator() # Get every year\n",
    "yearsFmt = mdates.DateFormatter('%Y') # Set year format\n",
    "\n",
    "\n",
    "fig, ax = plt.subplots()\n",
    "ax.plot(df1['NewDate'], df1['price'])\n",
    "\n",
    "\n",
    "ax.xaxis.set_major_locator(years)\n",
    "ax.xaxis.set_major_formatter(yearsFmt)\n",
    "\n",
    "\n",
    "plt.title('Close Stock Price History [2010 - 2021]', fontsize=16)\n",
    "\n",
    "plt.xlabel('Date', fontsize=14)\n",
    "\n",
    "plt.ylabel('Closing Stock Price in $', fontsize=14)\n",
    "\n",
    "fig.autofmt_xdate()\n",
    "plt.show()"
   ]
  },
  {
   "cell_type": "code",
   "execution_count": 449,
   "id": "af1ea63a-43e7-4435-8e15-9e5347fe92df",
   "metadata": {},
   "outputs": [],
   "source": [
    "from sklearn.model_selection import train_test_split\n",
    "from sklearn.linear_model import LinearRegression\n",
    "\n",
    "train, test = train_test_split(df1, test_size=0.20)\n",
    "X_train = np.array(train.index).reshape(-1, 1)\n",
    "y_train = train['price']\n"
   ]
  },
  {
   "cell_type": "code",
   "execution_count": 364,
   "id": "d012b3e4-e074-4f94-830f-ce6ccd10c021",
   "metadata": {},
   "outputs": [
    {
     "name": "stdout",
     "output_type": "stream",
     "text": [
      "Slope:  1.0191476702702391\n"
     ]
    },
    {
     "name": "stderr",
     "output_type": "stream",
     "text": [
      "<ipython-input-364-26a9532beb6d>:5: DeprecationWarning: np.asscalar(a) is deprecated since NumPy v1.16, use a.item() instead\n",
      "  print('Slope: ', np.asscalar(np.squeeze(model.coef_)))# The Intercept\n"
     ]
    }
   ],
   "source": [
    "\n",
    "from scipy import stats\n",
    "model = LinearRegression()\n",
    "\n",
    "model.fit(X_train, y_train)\n",
    "print('Slope: ', np.asscalar(np.squeeze(model.coef_)))\n",
    "# The Intercept\n",
    "#print('Intercept: ', model.intercept_)\n"
   ]
  },
  {
   "cell_type": "code",
   "execution_count": 446,
   "id": "bf85b3a0-ef16-4977-9c7a-31eb7c2523e3",
   "metadata": {},
   "outputs": [
    {
     "data": {
      "image/png": "[encoded data removed]",
      "text/plain": [
       "<Figure size 1008x540 with 1 Axes>"
      ]
     },
     "metadata": {
      "needs_background": "light"
     },
     "output_type": "display_data"
    }
   ],
   "source": [
    "plt.figure(1, figsize=(14,7.5))\n",
    "plt.title('Train : Linear Regression | Price vs Time')\n",
    "plt.scatter(X_train, y_train, edgecolor='w', label='Actual Price')\n",
    "plt.plot(X_train, model.predict(X_train), color='r', label='Predicted Price')\n",
    "plt.xlabel('Integer Date')\n",
    "plt.ylabel('Stock Price')\n",
    "plt.legend()\n",
    "plt.show()"
   ]
  },
  {
   "cell_type": "code",
   "execution_count": 366,
   "id": "23c98eec-6e8a-4041-9018-db9794307132",
   "metadata": {},
   "outputs": [],
   "source": [
    "# Create test arrays\n",
    "X_test = np.array(test.index).reshape(-1, 1)\n",
    "y_test = test['price']"
   ]
  },
  {
   "cell_type": "code",
   "execution_count": 367,
   "id": "21bcc240-87ed-4415-a615-c6113db845be",
   "metadata": {},
   "outputs": [],
   "source": [
    "y_pred = model.predict(X_test)\n",
    "\n",
    "df1['predict'] = model.predict(np.array(df1.index).reshape(-1, 1))\n"
   ]
  },
  {
   "cell_type": "code",
   "execution_count": 368,
   "id": "2c9916c4-29ef-4196-b980-40bebe44f3ae",
   "metadata": {},
   "outputs": [],
   "source": [
    "randints = np.random.randint(len(df1), size=20)\n",
    "\n",
    "df_sample = df1[df1.index.isin(randints)]\n",
    "df_sample = df_sample.sort_values('price')\n"
   ]
  },
  {
   "cell_type": "code",
   "execution_count": 369,
   "id": "d212b275-aea1-4782-94e6-21bb637f741e",
   "metadata": {},
   "outputs": [
    {
     "data": {
      "image/png": "[encoded data removed]",
      "text/plain": [
       "<Figure size 720x432 with 1 Axes>"
      ]
     },
     "metadata": {
      "needs_background": "light"
     },
     "output_type": "display_data"
    }
   ],
   "source": [
    "fig, ax = plt.subplots()\n",
    "df_sample.plot(x='NewDate', y=['price', 'predict'], kind='bar', ax=ax)\n",
    "\n",
    "plt.title('Comparison Predicted vs Actual Price in Sample data selection', fontsize=16)\n",
    " \n",
    "\n",
    "plt.xlabel('date', fontsize=14)\n",
    "\n",
    "plt.ylabel('Stock Price in $', fontsize=14)\n",
    "\n",
    "plt.show()"
   ]
  },
  {
   "cell_type": "code",
   "execution_count": 370,
   "id": "86387ce9-758a-4978-b169-fc018fc0bf5d",
   "metadata": {},
   "outputs": [
    {
     "data": {
      "image/png": "[encoded data removed]",
      "text/plain": [
       "<Figure size 1152x720 with 1 Axes>"
      ]
     },
     "metadata": {
      "needs_background": "light"
     },
     "output_type": "display_data"
    }
   ],
   "source": [
    "plt.figure(1, figsize=(16,10))\n",
    "plt.title('Test :Linear Regression | Price vs Time')\n",
    "plt.plot(X_test, model.predict(X_test), color='r', label='Predicted Price')\n",
    "plt.scatter(X_test, y_test, edgecolor='w', label='Actual Price')\n",
    "\n",
    "plt.xlabel('Integer Date')\n",
    "plt.ylabel('Stock Price in $')\n",
    "\n",
    "plt.show()"
   ]
  },
  {
   "cell_type": "code",
   "execution_count": null,
   "id": "b922e71b-600b-456b-809f-41e729025342",
   "metadata": {},
   "outputs": [],
   "source": [
    "\n"
   ]
  },
  {
   "cell_type": "code",
   "execution_count": 371,
   "id": "70e5ddbb-08ac-4e56-b8a8-82041cbd38ac",
   "metadata": {},
   "outputs": [
    {
     "data": {
      "text/plain": [
       "count    2769.000000\n",
       "mean     2359.925565\n",
       "std       858.410963\n",
       "min      1099.230000\n",
       "25%      1698.670000\n",
       "50%      2124.200000\n",
       "75%      2842.740000\n",
       "max      4793.060000\n",
       "Name: price, dtype: float64"
      ]
     },
     "execution_count": 371,
     "metadata": {},
     "output_type": "execute_result"
    }
   ],
   "source": [
    "from sklearn import metrics\n",
    "df1['price'].describe()"
   ]
  },
  {
   "cell_type": "code",
   "execution_count": 372,
   "id": "709024eb-88ba-4903-b842-ff9cf1e1b0ca",
   "metadata": {},
   "outputs": [
    {
     "name": "stdout",
     "output_type": "stream",
     "text": [
      "Mean Absolute Error: 194.05269767360215\n"
     ]
    },
    {
     "data": {
      "text/plain": [
       "0.0837099909225247"
      ]
     },
     "execution_count": 372,
     "metadata": {},
     "output_type": "execute_result"
    }
   ],
   "source": [
    "print('Mean Absolute Error:', metrics.mean_absolute_error(y_test, y_pred))  \n",
    "metrics.mean_absolute_error(y_test, y_pred)/df1['price'].describe().mean()"
   ]
  },
  {
   "cell_type": "code",
   "execution_count": 373,
   "id": "43ee7ca5-4741-490a-8679-be97df7e6ced",
   "metadata": {},
   "outputs": [
    {
     "name": "stdout",
     "output_type": "stream",
     "text": [
      "R2:  0.9008628688303982\n"
     ]
    }
   ],
   "source": [
    "print('R2: ', metrics.r2_score(y_test, y_pred))"
   ]
  },
  {
   "cell_type": "code",
   "execution_count": null,
   "id": "5f594ead-da3f-4c18-bccf-bd0277a76db5",
   "metadata": {},
   "outputs": [],
   "source": []
  },
  {
   "cell_type": "code",
   "execution_count": 324,
   "id": "d14823d8-e642-46da-a26d-ca610d4f5b02",
   "metadata": {},
   "outputs": [
    {
     "data": {
      "text/plain": [
       "[<matplotlib.lines.Line2D at 0x7f931a467fd0>]"
      ]
     },
     "execution_count": 324,
     "metadata": {},
     "output_type": "execute_result"
    },
    {
     "data": {
      "image/png": "[encoded data removed]",
      "text/plain": [
       "<Figure size 720x432 with 1 Axes>"
      ]
     },
     "metadata": {
      "needs_background": "light"
     },
     "output_type": "display_data"
    }
   ],
   "source": [
    "new_df = pd.DataFrame(index=range(0,len(df)),columns=['Close'])\n",
    "close = df['Close*'].to_numpy()    \n",
    "new_df['Close'] = close\n",
    "new_df = new_df[::-1]\n",
    "times = []\n",
    "dates = []\n",
    "j=0\n",
    "for i in range(0,len(new_df)-9,30):\n",
    "    y1 = new_df['Close'][i+30]\n",
    "    y2 = new_df['Close'][i]\n",
    "    m = (y2-y1)/30\n",
    "    \n",
    "    times.append(m)\n",
    "years = [2011,2012,2013,2014,2015,2016,2017,2018,2019,2020,2021]\n",
    "month = [1,2,3,4,5,6,7,8,9,10,11,12]\n",
    "for j in years:\n",
    "    for k in month:\n",
    "        tmp = [k,j]\n",
    "        dates.append(tmp)\n",
    "plt.plot(times)       "
   ]
  },
  {
   "cell_type": "code",
   "execution_count": 447,
   "id": "b3307afc-8c10-4edc-958e-5a171f35828b",
   "metadata": {},
   "outputs": [
    {
     "data": {
      "image/png": "[encoded data removed]",
      "text/plain": [
       "<Figure size 720x432 with 1 Axes>"
      ]
     },
     "metadata": {
      "needs_background": "light"
     },
     "output_type": "display_data"
    },
    {
     "name": "stdout",
     "output_type": "stream",
     "text": [
      "R2: 0.0028583512488383755\n"
     ]
    }
   ],
   "source": [
    "m = linear_model.LinearRegression() \n",
    "\n",
    "x = df['Volume'].values.reshape(df['Volume'].shape[0],1)\n",
    "y = df['Close*'].values.reshape(df['Close*'].shape[0],1)\n",
    "\n",
    "m.fit(X=x, y=y)\n",
    "\n",
    "plt.scatter(x, y,  color='black')\n",
    "plt.plot(x, m.predict(x), color='blue', linewidth=3)\n",
    "\n",
    "plt.xlabel('volume (Thousands of dollars)')\n",
    "plt.ylabel('close price ')\n",
    "plt.show()\n",
    "\n",
    "print(\"R2:\",m.score(x,y))"
   ]
  },
  {
   "cell_type": "code",
   "execution_count": 470,
   "id": "69eeba51-c8ff-40dc-b141-e361f50fd594",
   "metadata": {},
   "outputs": [
    {
     "data": {
      "text/html": [
       "<div>\n",
       "<style scoped>\n",
       "    .dataframe tbody tr th:only-of-type {\n",
       "        vertical-align: middle;\n",
       "    }\n",
       "\n",
       "    .dataframe tbody tr th {\n",
       "        vertical-align: top;\n",
       "    }\n",
       "\n",
       "    .dataframe thead th {\n",
       "        text-align: right;\n",
       "    }\n",
       "</style>\n",
       "<table border=\"1\" class=\"dataframe\">\n",
       "  <thead>\n",
       "    <tr style=\"text-align: right;\">\n",
       "      <th></th>\n",
       "      <th>price</th>\n",
       "      <th>NewDate</th>\n",
       "    </tr>\n",
       "  </thead>\n",
       "  <tbody>\n",
       "    <tr>\n",
       "      <th>0</th>\n",
       "      <td>1257.88</td>\n",
       "      <td>2010-12-30</td>\n",
       "    </tr>\n",
       "    <tr>\n",
       "      <th>1</th>\n",
       "      <td>1257.64</td>\n",
       "      <td>2010-12-31</td>\n",
       "    </tr>\n",
       "    <tr>\n",
       "      <th>2</th>\n",
       "      <td>1271.87</td>\n",
       "      <td>2011-01-03</td>\n",
       "    </tr>\n",
       "    <tr>\n",
       "      <th>3</th>\n",
       "      <td>1270.20</td>\n",
       "      <td>2011-01-04</td>\n",
       "    </tr>\n",
       "    <tr>\n",
       "      <th>4</th>\n",
       "      <td>1276.56</td>\n",
       "      <td>2011-01-05</td>\n",
       "    </tr>\n",
       "    <tr>\n",
       "      <th>...</th>\n",
       "      <td>...</td>\n",
       "      <td>...</td>\n",
       "    </tr>\n",
       "    <tr>\n",
       "      <th>2764</th>\n",
       "      <td>4696.56</td>\n",
       "      <td>2021-12-22</td>\n",
       "    </tr>\n",
       "    <tr>\n",
       "      <th>2765</th>\n",
       "      <td>4725.79</td>\n",
       "      <td>2021-12-23</td>\n",
       "    </tr>\n",
       "    <tr>\n",
       "      <th>2766</th>\n",
       "      <td>4791.19</td>\n",
       "      <td>2021-12-27</td>\n",
       "    </tr>\n",
       "    <tr>\n",
       "      <th>2767</th>\n",
       "      <td>4786.35</td>\n",
       "      <td>2021-12-28</td>\n",
       "    </tr>\n",
       "    <tr>\n",
       "      <th>2768</th>\n",
       "      <td>4793.06</td>\n",
       "      <td>2021-12-29</td>\n",
       "    </tr>\n",
       "  </tbody>\n",
       "</table>\n",
       "<p>2769 rows × 2 columns</p>\n",
       "</div>"
      ],
      "text/plain": [
       "        price    NewDate\n",
       "0     1257.88 2010-12-30\n",
       "1     1257.64 2010-12-31\n",
       "2     1271.87 2011-01-03\n",
       "3     1270.20 2011-01-04\n",
       "4     1276.56 2011-01-05\n",
       "...       ...        ...\n",
       "2764  4696.56 2021-12-22\n",
       "2765  4725.79 2021-12-23\n",
       "2766  4791.19 2021-12-27\n",
       "2767  4786.35 2021-12-28\n",
       "2768  4793.06 2021-12-29\n",
       "\n",
       "[2769 rows x 2 columns]"
      ]
     },
     "execution_count": 470,
     "metadata": {},
     "output_type": "execute_result"
    }
   ],
   "source": [
    "df1"
   ]
  },
  {
   "cell_type": "code",
   "execution_count": null,
   "id": "18788b09-ab32-40a3-bdda-53a6ac3b2746",
   "metadata": {},
   "outputs": [],
   "source": []
  },
  {
   "cell_type": "code",
   "execution_count": 538,
   "id": "0f8afe1b-23fc-4f93-8266-3a170da43ef6",
   "metadata": {},
   "outputs": [
    {
     "data": {
      "text/plain": [
       "numpy.int64"
      ]
     },
     "execution_count": 538,
     "metadata": {},
     "output_type": "execute_result"
    }
   ],
   "source": [
    "df1['year'] = pd.DatetimeIndex(df1['NewDate']).year\n",
    "value = np.array(df1['price']) \n",
    "year = np.array(df1['year']) \n"
   ]
  },
  {
   "cell_type": "code",
   "execution_count": 542,
   "id": "1c80a2ea-a56e-40cd-ad8c-f68ec707c923",
   "metadata": {},
   "outputs": [
    {
     "data": {
      "text/plain": [
       "([<matplotlib.axis.XTick at 0x7f9319955e50>,\n",
       "  <matplotlib.axis.XTick at 0x7f932f63fc70>,\n",
       "  <matplotlib.axis.XTick at 0x7f932fa44b80>,\n",
       "  <matplotlib.axis.XTick at 0x7f931a422190>,\n",
       "  <matplotlib.axis.XTick at 0x7f931a422640>,\n",
       "  <matplotlib.axis.XTick at 0x7f931769c8b0>,\n",
       "  <matplotlib.axis.XTick at 0x7f931769c490>,\n",
       "  <matplotlib.axis.XTick at 0x7f931a4221c0>,\n",
       "  <matplotlib.axis.XTick at 0x7f931769cd30>,\n",
       "  <matplotlib.axis.XTick at 0x7f931a429280>,\n",
       "  <matplotlib.axis.XTick at 0x7f931a429ca0>,\n",
       "  <matplotlib.axis.XTick at 0x7f931a412b20>,\n",
       "  <matplotlib.axis.XTick at 0x7f931a412ca0>,\n",
       "  <matplotlib.axis.XTick at 0x7f931a412730>,\n",
       "  <matplotlib.axis.XTick at 0x7f931a429c70>,\n",
       "  <matplotlib.axis.XTick at 0x7f931a422d00>,\n",
       "  <matplotlib.axis.XTick at 0x7f9317a166a0>,\n",
       "  <matplotlib.axis.XTick at 0x7f9318524400>,\n",
       "  <matplotlib.axis.XTick at 0x7f9318524580>],\n",
       " [Text(0, 0, ''),\n",
       "  Text(0, 0, ''),\n",
       "  Text(0, 0, ''),\n",
       "  Text(0, 0, ''),\n",
       "  Text(0, 0, ''),\n",
       "  Text(0, 0, ''),\n",
       "  Text(0, 0, ''),\n",
       "  Text(0, 0, ''),\n",
       "  Text(0, 0, ''),\n",
       "  Text(0, 0, ''),\n",
       "  Text(0, 0, ''),\n",
       "  Text(0, 0, ''),\n",
       "  Text(0, 0, ''),\n",
       "  Text(0, 0, ''),\n",
       "  Text(0, 0, ''),\n",
       "  Text(0, 0, ''),\n",
       "  Text(0, 0, ''),\n",
       "  Text(0, 0, ''),\n",
       "  Text(0, 0, '')])"
      ]
     },
     "execution_count": 542,
     "metadata": {},
     "output_type": "execute_result"
    },
    {
     "data": {
      "image/png": "[encoded data removed]",
      "text/plain": [
       "<Figure size 720x432 with 1 Axes>"
      ]
     },
     "metadata": {
      "needs_background": "light"
     },
     "output_type": "display_data"
    }
   ],
   "source": [
    "years_extended = np.arange(2010, 2028, 1)\n",
    "y = pd.Series(value) \n",
    "x = pd.Series(year)\n",
    "\n",
    "slope, intercept, r_value, p_value, std_err = linregress(x, y)\n",
    "\n",
    "line = [slope*xi + intercept for xi in years_extended]\n",
    "plt.plot(years_extended, line, color = 'orange', label=\"Fitting Line\", linewidth=1)\n",
    "plt.scatter(x, y, s = 1, marker = '.', label=\"Point\", color = 'blue')\n",
    "plt.xticks(range(2010, 2029, 1))"
   ]
  },
  {
   "cell_type": "code",
   "execution_count": 550,
   "id": "0c8f44cc-b1bc-4179-8a1b-a4797e37d5ac",
   "metadata": {},
   "outputs": [
    {
     "name": "stdout",
     "output_type": "stream",
     "text": [
      "in 2027 the average stock price will be :  5175.52 $\n"
     ]
    }
   ],
   "source": [
    "print(\"in 2027 the average stock price will be : \",round(line[17],2),'$')"
   ]
  },
  {
   "cell_type": "code",
   "execution_count": 552,
   "id": "aed69b1a-21bf-4822-bc83-f52cb779b6b6",
   "metadata": {},
   "outputs": [
    {
     "data": {
      "text/plain": [
       "LinregressResult(slope=255.85420467740113, intercept=-513440.9498710055, rvalue=0.9432313539687138, pvalue=0.0, stderr=1.7127196203382495, intercept_stderr=3452.8389662347577)"
      ]
     },
     "execution_count": 552,
     "metadata": {},
     "output_type": "execute_result"
    }
   ],
   "source": [
    "res = stats.linregress(x, y)\n",
    "res"
   ]
  },
  {
   "cell_type": "code",
   "execution_count": 553,
   "id": "47f15228-7baa-4cb1-98b1-dadce12dff80",
   "metadata": {},
   "outputs": [
    {
     "name": "stdout",
     "output_type": "stream",
     "text": [
      "R-squared: 0.889685\n"
     ]
    }
   ],
   "source": [
    "#Coefficient of determination (R-squared)\n",
    "print(f\"R-squared: {res.rvalue**2:.6f}\")"
   ]
  },
  {
   "cell_type": "code",
   "execution_count": null,
   "id": "04c333b4-4f19-4218-886f-c939baa2673f",
   "metadata": {},
   "outputs": [],
   "source": []
  }
 ],
 "metadata": {
  "kernelspec": {
   "display_name": "Python 3",
   "language": "python",
   "name": "python3"
  },
  "language_info": {
   "codemirror_mode": {
    "name": "ipython",
    "version": 3
   },
   "file_extension": ".py",
   "mimetype": "text/x-python",
   "name": "python",
   "nbconvert_exporter": "python",
   "pygments_lexer": "ipython3",
   "version": "3.8.8"
  }
 },
 "nbformat": 4,
 "nbformat_minor": 5
}
